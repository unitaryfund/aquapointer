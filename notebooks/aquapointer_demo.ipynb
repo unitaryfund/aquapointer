{
 "cells": [
  {
   "cell_type": "code",
   "execution_count": 1,
   "id": "186b920d",
   "metadata": {},
   "outputs": [],
   "source": [
    "import numpy as np\n",
    "from pulser import Pulse, Sequence, Register\n",
    "from pulser.devices import MockDevice, AnalogDevice\n",
    "from pulser.waveforms import InterpolatedWaveform\n",
    "from pulser_simulation import QutipBackend\n",
    "import matplotlib.pyplot as plt\n",
    "import pickle\n",
    "\n",
    "from aquapointer import qubo_solution, density_mapping, water_placement, processor\n",
    "from aquapointer.analog.utils import benchmark_utils as bmu, density_utils as du, detuning_scale_utils as dsu"
   ]
  },
  {
   "cell_type": "markdown",
   "id": "f068e091",
   "metadata": {},
   "source": [
    "# Import stuff"
   ]
  },
  {
   "cell_type": "code",
   "execution_count": 2,
   "id": "e7018f53",
   "metadata": {},
   "outputs": [],
   "source": [
    "# The 3D-RISM density slices are saved as pickled files in the folder MUP1.\n",
    "# They are indexed by a number (see d_list) which represents the distance in Angstrom\n",
    "# from the central slice.\n",
    "\n",
    "d_list = [-1.0, -0.5, 0.0, 0.5, 1.0, 1.5]\n",
    "\n",
    "# import slices\n",
    "path = \"../data/MUP1/MUP1_logfilter8_slices/\"\n",
    "basename = \"_density_slice_MUP1_logfilter8.p\"\n",
    "densities = []\n",
    "for d in d_list:\n",
    "    filename = path + f\"d{d}\" + basename\n",
    "    with open(filename, 'rb') as file_in:\n",
    "         densities.append(pickle.load(file_in))\n",
    "            \n",
    "# import slice coordinates (these are 3D coordinates in\n",
    "# angstroms, they are needed at the very end to map\n",
    "# excited qubits to positions in the protein cavity)\n",
    "path = \"../data/MUP1/MUP1_logfilter8_points/\"\n",
    "basename = \"_plane_points_MUP1.p\"\n",
    "points = []\n",
    "for d in d_list:\n",
    "    filename = path + f\"d{d}\" + basename\n",
    "    with open(filename, 'rb') as file_in:\n",
    "         points.append(pickle.load(file_in))\n"
   ]
  },
  {
   "cell_type": "code",
   "execution_count": 3,
   "id": "09ca44e4",
   "metadata": {},
   "outputs": [],
   "source": [
    "# The register associated to each slide can be found in the folder nb/registers.\n",
    "# Two types of files are saved there:\n",
    "# - position_<#>.npy: the positions of the qubits in micrometers, as if they were in the QPU\n",
    "# - rescaled_position_<#>.npy: the positions of the qubits on the same scale as the density slices\n",
    "\n",
    "# import registers\n",
    "path = \"../registers/\"\n",
    "basename = \"position_\"\n",
    "positions = []\n",
    "registers = []\n",
    "for i in range(len(d_list)):\n",
    "    with open(f'../registers/position_{i}.npy', 'rb') as file_in:\n",
    "        pos = np.load(file_in)\n",
    "    positions.append(pos)\n",
    "    registers.append(Register.from_coordinates(pos)) # this is to create a Pulser register object\n",
    "\n",
    "basename = \"rescaled_position_\"\n",
    "rescaled_positions = []\n",
    "for i in range(len(d_list)):\n",
    "    with open(f'../registers/rescaled_position_{i}.npy', 'rb') as file_in:\n",
    "        res_pos = np.load(file_in)\n",
    "    rescaled_positions.append(res_pos)"
   ]
  },
  {
   "cell_type": "code",
   "execution_count": 4,
   "id": "03d31dc9",
   "metadata": {},
   "outputs": [
    {
     "data": {
      "text/plain": [
       "numpy.ndarray"
      ]
     },
     "execution_count": 4,
     "metadata": {},
     "output_type": "execute_result"
    }
   ],
   "source": [
    "type(points[0])"
   ]
  },
  {
   "cell_type": "code",
   "execution_count": 5,
   "id": "5c252424",
   "metadata": {},
   "outputs": [],
   "source": [
    "def executor(pulse_seq, num_samples):\n",
    "    sim = QutipBackend(pulse_seq)\n",
    "    res = sim.run()\n",
    "    return res.sample_final_state(num_samples)"
   ]
  },
  {
   "cell_type": "code",
   "execution_count": 6,
   "id": "6937d91f",
   "metadata": {},
   "outputs": [],
   "source": [
    "# choose the maximum detuning allowed\n",
    "max_det = AnalogDevice.channel_objects[0].max_abs_detuning-1\n",
    "\n",
    "# choose a blockade radius (in micrometers)\n",
    "# which in turns defines a Rabi frequency\n",
    "brad = 7\n",
    "omega = AnalogDevice.rabi_from_blockade(brad)\n",
    "\n",
    "# choose a pulse duration\n",
    "T = 3000\n",
    "\n",
    "pulse_settings = processor.PulseSettings(brad=brad, omega=omega, pulse_duration=T, max_det=max_det)\n",
    "processor_configs = [processor.AnalogProcessor(device=MockDevice, pos=pos, pos_id=p, pulse_settings=pulse_settings) for p, pos in enumerate(positions)]"
   ]
  },
  {
   "cell_type": "code",
   "execution_count": 7,
   "id": "fddeeae4",
   "metadata": {},
   "outputs": [
    {
     "data": {
      "text/plain": [
       "[array([24.331302  , 16.37638359, 32.70407856]),\n",
       " array([24.331302  , 15.95704731, 32.97639654]),\n",
       " array([24.00787091, 16.2944024 , 33.49588199]),\n",
       " array([24.41064546, 16.59785257, 33.96315803]),\n",
       " array([24.36242821, 15.73546988, 33.5532389 ]),\n",
       " array([25.46758357, 14.41829011, 31.52494366]),\n",
       " array([24.07561299, 16.10041135, 34.11520398]),\n",
       " array([25.70374775, 14.07329096, 30.9936873 ]),\n",
       " array([24.43747167, 14.15251265, 32.03372339]),\n",
       " array([24.36242821, 15.3161336 , 33.82555688]),\n",
       " array([25.09593523, 13.8932625 , 31.63450998]),\n",
       " array([24.84024622, 14.03662655, 32.77331742]),\n",
       " array([24.43747167, 13.73317637, 32.30604137]),\n",
       " array([25.27414699, 14.53783558, 33.54511783]),\n",
       " array([24.87137244, 13.81504912, 33.35015977]),\n",
       " array([25.34188907, 14.34384454, 34.16443983])]"
      ]
     },
     "execution_count": 7,
     "metadata": {},
     "output_type": "execute_result"
    }
   ],
   "source": [
    "test_water_postions = water_placement.find_water_positions(densities, points, executor, processor_configs)\n",
    "test_water_postions"
   ]
  },
  {
   "cell_type": "code",
   "execution_count": 8,
   "id": "91ce7cea",
   "metadata": {},
   "outputs": [
    {
     "data": {
      "image/png": "[encoded data removed]",
      "text/plain": [
       "<Figure size 640x480 with 2 Axes>"
      ]
     },
     "metadata": {},
     "output_type": "display_data"
    }
   ],
   "source": [
    "# The algorithm requires a choice of variance and amplitude for each Gaussian.\n",
    "# We used a very heuristic method: take the first slice, and assume that it's composed\n",
    "# of exactly one Gaussian. Given that assumption, we tried a bunch of values for\n",
    "# variance and amplitude and chose the ones that worked best\n",
    "\n",
    "variance = 50\n",
    "amplitude = 6\n",
    "\n",
    "G = amplitude*dsu.gaussian_mixture(densities[0].shape, variance, [(58,48.2)])\n",
    "plt.pcolormesh((densities[0]-G)[30:,40:])\n",
    "plt.colorbar()\n",
    "plt.show()"
   ]
  },
  {
   "attachments": {},
   "cell_type": "markdown",
   "id": "3d7f0267",
   "metadata": {},
   "source": [
    "# Quantum solution"
   ]
  },
  {
   "cell_type": "code",
   "execution_count": 9,
   "id": "340f0ce7",
   "metadata": {},
   "outputs": [
    {
     "name": "stdout",
     "output_type": "stream",
     "text": [
      "Processing density 1 of 6\n",
      "Density 1 has 4 qubits\n",
      "The best solution is:  1000\n",
      "\n",
      "Processing density 2 of 6\n",
      "Density 2 has 9 qubits\n",
      "The best solution is:  000100001\n",
      "\n",
      "Processing density 3 of 6\n",
      "Density 3 has 14 qubits\n",
      "The best solution is:  00001001000000\n",
      "\n",
      "Processing density 4 of 6\n",
      "Density 4 has 14 qubits\n",
      "The best solution is:  00000010100000\n",
      "\n",
      "Processing density 5 of 6\n",
      "Density 5 has 13 qubits\n",
      "The best solution is:  0000010100000\n",
      "\n",
      "Processing density 6 of 6\n",
      "Density 6 has 8 qubits\n",
      "The best solution is:  00010000\n",
      "\n"
     ]
    }
   ],
   "source": [
    "best_solutions = []\n",
    "samplings = []\n",
    "for k, density in enumerate(densities):\n",
    "    \n",
    "    # print some stuff, unimportant\n",
    "    print(f\"Processing density {k+1} of {len(densities)}\")\n",
    "    reg = registers[k]\n",
    "    pos = positions[k]\n",
    "    rescaled_pos = rescaled_positions[k]\n",
    "    n = len(pos)\n",
    "    print(f\"Density {k+1} has {n} qubits\")\n",
    "    # reg.draw()\n",
    "    # fig, ax = dsu.plot_density(density, rescaled_pos)\n",
    "    # # plt.show()\n",
    "    \n",
    "    # use function to calculate the one-body coefficients of the QUBO\n",
    "    gamma_list = dsu.gamma_list(density, rescaled_pos, variance)\n",
    "    \n",
    "    # roundabout way of finding the scale factor between the QPU units\n",
    "    # and the density units, it's needed in the next block\n",
    "    distances_density = dsu.find_possible_distances(rescaled_pos)\n",
    "    distances_register = dsu.find_possible_distances(pos)\n",
    "    scale = distances_density[0]/distances_register[0]\n",
    "    \n",
    "    # test_gamma_list, test_scale = qubo_solution.calculate_one_body_qubo_coeffs(density, rescaled_pos, variance, pos)\n",
    "    # print(\"test coeffs and scale\")\n",
    "    # print(test_gamma_list == gamma_list)\n",
    "    # print(test_scale == scale)\n",
    "    # calculate mapping between one-body coefficients of the QUBO\n",
    "    # and detunings\n",
    "    dets = np.array([item for item in gamma_list])\n",
    "    for i in range(n):\n",
    "        # this line shifts every value by a quantity that is the mean of neighbouring detunings\n",
    "        # where a neighbour is defined as atoms whithin a blockade radius distance\n",
    "        dets[i] -= np.mean(dsu.neighbouring_gamma_list(density, rescaled_pos, rescaled_pos[i], scale*brad, variance))\n",
    "    # the next line line rescales every detuning so that the maximum one\n",
    "    # turns out to be `max_det` (see first line of this cell)\n",
    "    dets *= max_det/np.max(np.abs(dets))\n",
    "    # test_dets =  qubo_solution.scale_detunings(density, pos, rescaled_pos, brad, variance, max_det)\n",
    "\n",
    "    # print(\"test dets\")\n",
    "    # print(dets == test_dets)\n",
    "\n",
    "    # test_seq = qubo_solution.generate_pulse_sequences(MockDevice, reg, dets, max_det, T, omega)\n",
    "    # Pulser stuff begins --------------------------\n",
    "    seq = Sequence(reg, MockDevice)\n",
    "    for i in range(n):\n",
    "        # add an adiabatic pulse for every qubit\n",
    "        seq.declare_channel(f'ch{i}', 'rydberg_local')\n",
    "        seq.target(i, f'ch{i}')\n",
    "        pulse = Pulse(InterpolatedWaveform(T, [0, omega, 0]), InterpolatedWaveform(T, [-max_det, 0, dets[i]]), 0)\n",
    "        seq.add(pulse, f'ch{i}')\n",
    "    # uncomment next line if you want to visualize the pulse sequence\n",
    "    # # seq.draw()\n",
    "    # print(\"test sequences\")\n",
    "    # print(test_seq.to_abstract_repr() == seq.to_abstract_repr())\n",
    "    \n",
    "\n",
    "    # # run simulation\n",
    "    sim = QutipBackend(seq)\n",
    "    res = sim.run()\n",
    "    samples = res.sample_final_state(1000)\n",
    "    # # Pulser stuff ends ----------------------------\n",
    "\n",
    "    # num_samples = 1000\n",
    "    # print(\"test qubo flow\")\n",
    "    # # test_best_solution = qubo_solution.run_qubo(density, executor, MockDevice, reg, rescaled_pos, pos, variance, amplitude, brad, T, omega, max_det)\n",
    "    # test_best_solution = qubo_solution.run_qubo(density, executor, processor_configs[k], rescaled_pos, pos, variance, amplitude)\n",
    "    # The next block calculates the cost (from the QUBO) of each\n",
    "    # bitstring sampled with the analog algorithm \n",
    "    quantum_solutions = sorted(samples.items(), key=lambda x: x[1], reverse=True)\n",
    "    quantum_plus_classical_solutions = []\n",
    "    for bitstring, count in quantum_solutions:\n",
    "        # calculate QUBO cost of bitstring\n",
    "        ising = dsu.ising_energies(rescaled_pos, density, variance, [bitstring], brad, amp=amplitude)\n",
    "        # the next try-except block is needed because the QUBO cost calculated in the line above\n",
    "        # resturns empty whenever the blockade constraint is not respected\n",
    "        try:\n",
    "            i_bit = ising[0][0]\n",
    "            i_en = ising[0][1]\n",
    "            quantum_plus_classical_solutions.append((bitstring, count, i_en)) \n",
    "        except IndexError:\n",
    "            i_bit = bitstring\n",
    "            i_en = 1e10\n",
    "            quantum_plus_classical_solutions.append((bitstring, count, i_en)) \n",
    "        # print(bitstring, count, i_en)\n",
    "    # print the best solution, which is defined as the bitstring sampled with the analog algorithm\n",
    "    # that has the lowest cost in the QUBO\n",
    "    best_solution = sorted(quantum_plus_classical_solutions, key=lambda x: x[2], reverse=False)[0][0]\n",
    "    best_solutions.append(best_solution)\n",
    "    samplings.append(np.array(quantum_plus_classical_solutions, dtype=object))\n",
    "    print(\"The best solution is: \", best_solution)\n",
    "    # print(test_best_solution == best_solution)\n",
    "    # test_best_solution =  qubo_solution.best_solution_from_samples(samples, rescaled_pos, density, brad, variance, amplitude)\n",
    "    # print(\"The best solution according to best_solution_from_samples is:\", test_best_solution)\n",
    "    print()"
   ]
  },
  {
   "cell_type": "markdown",
   "id": "43ba1bd0",
   "metadata": {},
   "source": [
    "# Remap bitstrings to water molecule positions in the protein cavity"
   ]
  },
  {
   "cell_type": "code",
   "execution_count": 10,
   "id": "d9202407",
   "metadata": {},
   "outputs": [],
   "source": [
    "# for each solution, find index of excited qubits\n",
    "qubit_indices = []\n",
    "for bitstring in best_solutions:\n",
    "    ls = []\n",
    "    for i,b in enumerate(bitstring):\n",
    "        if b=='1':\n",
    "            ls.append(i)\n",
    "    qubit_indices.append(ls)"
   ]
  },
  {
   "cell_type": "code",
   "execution_count": 11,
   "id": "c7806b3a",
   "metadata": {},
   "outputs": [],
   "source": [
    "# from their indices, find positions of excited qubits\n",
    "# (on the scale of the density slices, not in micrometers)\n",
    "qubit_rescaled_positions = []\n",
    "for i,indices in enumerate(qubit_indices):\n",
    "    ls = []\n",
    "    for idx in indices:\n",
    "        ls.append(rescaled_positions[i][idx])\n",
    "    qubit_rescaled_positions.append(ls)"
   ]
  },
  {
   "cell_type": "code",
   "execution_count": 12,
   "id": "c3fe7c62",
   "metadata": {},
   "outputs": [],
   "source": [
    "# from the rescaled positions, find the indices on the 3D map\n",
    "water_indices = []\n",
    "for i,res_pos in enumerate(qubit_rescaled_positions):\n",
    "    ls = []\n",
    "    for pos in res_pos:\n",
    "        ls.append((int(pos[1]), int(pos[0])))\n",
    "    water_indices.append(ls)"
   ]
  },
  {
   "cell_type": "code",
   "execution_count": 13,
   "id": "9feec0c0",
   "metadata": {},
   "outputs": [
    {
     "data": {
      "text/plain": [
       "[[array([24.331302  , 16.37638359, 32.70407856])],\n",
       " [array([23.9767447 , 16.09664354, 33.19135761]),\n",
       "  array([24.10673921, 16.71750649, 34.14741037])],\n",
       " [array([24.37951925, 15.98075744, 33.93095164]),\n",
       "  array([25.77148983, 14.29863619, 31.34069132])],\n",
       " [array([24.74137793, 14.03285874, 31.84947105]),\n",
       "  array([24.36242821, 15.3161336 , 33.82555688])],\n",
       " [array([24.93911452, 14.45973064, 33.4248458 ]),\n",
       "  array([24.43747167, 13.73317637, 32.30604137])],\n",
       " [array([25.24302078, 13.92074045, 33.51291144])]]"
      ]
     },
     "execution_count": 13,
     "metadata": {},
     "output_type": "execute_result"
    }
   ],
   "source": [
    "# and finally from the indices find the water molecule positions\n",
    "# in angstroms\n",
    "water_positions = []\n",
    "for i,slice in enumerate(water_indices):\n",
    "    ls = []\n",
    "    for idx_i, idx_j in slice:\n",
    "        ls.append(points[i][idx_i,idx_j])\n",
    "    water_positions.append(ls)\n",
    "\n",
    "\n",
    "water_positions"
   ]
  },
  {
   "cell_type": "code",
   "execution_count": 15,
   "id": "afb84544",
   "metadata": {},
   "outputs": [
    {
     "data": {
      "text/plain": [
       "[array([[0., 0., 0.]]),\n",
       " array([[ 0.3545573 , -0.13959623, -0.21496107],\n",
       "        [ 0.22456279, -0.76045918, -1.17101383]]),\n",
       " array([[-0.37164834,  0.31364496, -0.43506965],\n",
       "        [-1.76361892,  1.9957662 ,  2.15519067]]),\n",
       " array([[-0.33073246,  2.56499384,  2.11368698],\n",
       "        [ 0.04821725,  1.28171897,  0.13760114]]),\n",
       " array([[-0.5766863 ,  1.27573924,  0.1283931 ],\n",
       "        [-0.07504346,  2.00229351,  1.24719752]]),\n",
       " array([[ 0.22456279,  0.49754966, -1.98796778]])]"
      ]
     },
     "execution_count": 15,
     "metadata": {},
     "output_type": "execute_result"
    }
   ],
   "source": [
    "[t - w for t, w in zip (test_water_postions, water_positions)]"
   ]
  },
  {
   "cell_type": "code",
   "execution_count": null,
   "id": "64921bdb",
   "metadata": {},
   "outputs": [],
   "source": []
  }
 ],
 "metadata": {
  "kernelspec": {
   "display_name": "Python 3 (ipykernel)",
   "language": "python",
   "name": "python3"
  },
  "language_info": {
   "codemirror_mode": {
    "name": "ipython",
    "version": 3
   },
   "file_extension": ".py",
   "mimetype": "text/x-python",
   "name": "python",
   "nbconvert_exporter": "python",
   "pygments_lexer": "ipython3",
   "version": "3.10.4"
  }
 },
 "nbformat": 4,
 "nbformat_minor": 5
}
