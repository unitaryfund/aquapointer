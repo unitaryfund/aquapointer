{
 "cells": [
  {
   "cell_type": "markdown",
   "metadata": {},
   "source": [
    "## Digital approach to solving a QUBO: using QAOA and Linear Entanglement Ansatz."
   ]
  },
  {
   "cell_type": "code",
   "execution_count": 1,
   "metadata": {},
   "outputs": [],
   "source": [
    "from aquapointer.digital.loaddata import LoadData\n",
    "from aquapointer.digital.qubo import Qubo\n",
    "from aquapointer.digital.vqe import VQE\n",
    "\n",
    "# General imports\n",
    "import numpy as np\n",
    "\n",
    "# Pre-defined ansatz circuit, operator class\n",
    "from qiskit.circuit.library import QAOAAnsatz, TwoLocal\n",
    "from qiskit.primitives import BackendSampler\n",
    "from qiskit import transpile \n",
    "from qiskit_aer import AerSimulator"
   ]
  },
  {
   "cell_type": "markdown",
   "metadata": {},
   "source": [
    "First we use LoadData to load all the 3D RISM slices of some protein and (scaled) register positions of the corresponding QPU. Then we use Qubo to compute the corresponding QUBO matrices and Ising Hamiltonians."
   ]
  },
  {
   "cell_type": "code",
   "execution_count": 2,
   "metadata": {},
   "outputs": [],
   "source": [
    "# LoadData does all the file loading.\n",
    "ld = LoadData()\n",
    "# Qubo computes all the qubo matrices given the 3d rism files and rescaled positions of registers from LoadData.\n",
    "q = Qubo(ld)"
   ]
  },
  {
   "cell_type": "markdown",
   "metadata": {},
   "source": [
    "We pick one QUBO matrix Ising Hamiltonian from the Qubo object and use that to define the ansatzes."
   ]
  },
  {
   "cell_type": "code",
   "execution_count": 3,
   "metadata": {},
   "outputs": [
    {
     "data": {
      "text/plain": [
       "array([[-0.01074377,  0.04727714,  0.04727714,  0.04727714],\n",
       "       [ 0.04727714, -0.00892812,  0.03218907,  0.04727714],\n",
       "       [ 0.04727714,  0.03218907, -0.00865155,  0.04727714],\n",
       "       [ 0.04727714,  0.04727714,  0.04727714, -0.00969204]])"
      ]
     },
     "execution_count": 3,
     "metadata": {},
     "output_type": "execute_result"
    }
   ],
   "source": [
    "# Use the first slice as an example to solve.\n",
    "qubo, ising_ham = q.qubo_hamiltonian_pairs[0]\n",
    "num_qubits = len(qubo)\n",
    "\n",
    "# Print the qubo matrix.\n",
    "qubo"
   ]
  },
  {
   "cell_type": "markdown",
   "metadata": {},
   "source": [
    "Qubo object also has a function that computes the optimal bitstring and corresponding energy using classical brute-force approach."
   ]
  },
  {
   "cell_type": "code",
   "execution_count": 4,
   "metadata": {},
   "outputs": [
    {
     "data": {
      "text/plain": [
       "('1000', -0.010743767178636635)"
      ]
     },
     "execution_count": 4,
     "metadata": {},
     "output_type": "execute_result"
    }
   ],
   "source": [
    "# classical brute-force solution\n",
    "solution = q.find_optimum(qubo=qubo)\n",
    "solution"
   ]
  },
  {
   "cell_type": "markdown",
   "metadata": {},
   "source": [
    "For illustration, here is a drawing of the Linear Entanglement ansatz."
   ]
  },
  {
   "cell_type": "code",
   "execution_count": 5,
   "metadata": {},
   "outputs": [
    {
     "data": {
      "image/png": "[encoded data removed]",
      "text/plain": [
       "<Figure size 538.33x367.889 with 1 Axes>"
      ]
     },
     "execution_count": 5,
     "metadata": {},
     "output_type": "execute_result"
    }
   ],
   "source": [
    "# Linear Entanglement ansatz circuit.\n",
    "le_ansatz = TwoLocal(num_qubits, 'ry', 'cx',  entanglement='linear', reps=1)\n",
    "\n",
    "# Drawing of the Linear Entanglement ansatz circuit.\n",
    "basis_gates=['u1', 'u2', 'u3', 'cx']\n",
    "ansatz_transpiled = transpile(le_ansatz, AerSimulator(), basis_gates=['u1', 'u2', 'u3', 'cx'], optimization_level=2)\n",
    "ansatz_transpiled.draw('mpl', style='iqp')"
   ]
  },
  {
   "cell_type": "markdown",
   "metadata": {},
   "source": [
    "Now that we have defined the qubo and ansatzes to be used, we use the VQE module to apply the variational approach. VQE accepts a qubo matrix, an ansatz, a sampler and initial parameters."
   ]
  },
  {
   "cell_type": "code",
   "execution_count": 6,
   "metadata": {},
   "outputs": [
    {
     "data": {
      "text/plain": [
       "[['1000', 0.0612, -0.010743767178636635],\n",
       " ['1000', 0.0657, -0.010743767178636635],\n",
       " ['1000', 0.0694, -0.010743767178636635],\n",
       " ['1000', 0.0694, -0.010743767178636635],\n",
       " ['1000', 0.0725, -0.010743767178636635],\n",
       " ['1000', 0.0637, -0.010743767178636635],\n",
       " ['1000', 0.0696, -0.010743767178636635],\n",
       " ['1000', 0.0634, -0.010743767178636635],\n",
       " ['1000', 0.0882, -0.010743767178636635],\n",
       " ['1000', 0.0895, -0.010743767178636635]]"
      ]
     },
     "execution_count": 6,
     "metadata": {},
     "output_type": "execute_result"
    }
   ],
   "source": [
    "# EXAMPLE: QAQA\n",
    "\n",
    "# Define a backend and sampler.\n",
    "backend = AerSimulator()\n",
    "sampler = BackendSampler(backend=backend, options={\"shots\": int(1e4)})\n",
    "\n",
    "# QAOA ansatz circuit.\n",
    "qaoa_ansatz = QAOAAnsatz(ising_ham, reps=1)\n",
    "\n",
    "alpha = 0.5 # confidence level for CVaR\n",
    "\n",
    "# Initial parameters for the QAOA ansatz.\n",
    "beta  = [0.7977]\n",
    "gamma = [0.0765]\n",
    "params = np.array(beta+gamma)\n",
    "vqe_qaoa = VQE(qubo=qubo, ansatz=qaoa_ansatz, sampler=sampler, params=params, prob_opt_sol=True)\n",
    "\n",
    "# Run the minimization.\n",
    "vqe_qaoa.run(alpha=alpha, maxiter=10)\n",
    "\n",
    "# history records the probability of lowest sampled energy at each iteration.\n",
    "vqe_qaoa.history"
   ]
  },
  {
   "cell_type": "code",
   "execution_count": 7,
   "metadata": {},
   "outputs": [
    {
     "data": {
      "text/plain": [
       "[['1000', 0.0417, -0.010743767178636635],\n",
       " ['1000', 0.0045, -0.010743767178636635],\n",
       " ['1000', 0.1511, -0.010743767178636635],\n",
       " ['1000', 0.1442, -0.010743767178636635],\n",
       " ['1000', 0.1212, -0.010743767178636635],\n",
       " ['1000', 0.0036, -0.010743767178636635],\n",
       " ['1000', 0.1864, -0.010743767178636635],\n",
       " ['1000', 0.1603, -0.010743767178636635],\n",
       " ['1000', 0.158, -0.010743767178636635],\n",
       " ['1000', 0.0081, -0.010743767178636635],\n",
       " ['1000', 0.1998, -0.010743767178636635],\n",
       " ['1000', 0.2449, -0.010743767178636635],\n",
       " ['1000', 0.2417, -0.010743767178636635],\n",
       " ['1000', 0.3127, -0.010743767178636635],\n",
       " ['1000', 0.3499, -0.010743767178636635],\n",
       " ['1000', 0.336, -0.010743767178636635],\n",
       " ['1000', 0.2597, -0.010743767178636635],\n",
       " ['1000', 0.2546, -0.010743767178636635],\n",
       " ['1000', 0.3979, -0.010743767178636635],\n",
       " ['1000', 0.3526, -0.010743767178636635]]"
      ]
     },
     "execution_count": 7,
     "metadata": {},
     "output_type": "execute_result"
    }
   ],
   "source": [
    "# EXAMPLE: LE\n",
    "np.random.seed(1)\n",
    "\n",
    "# Define a backend and sampler.\n",
    "backend = AerSimulator()\n",
    "sampler = BackendSampler(backend=backend, options={\"shots\": int(1e4)})\n",
    "\n",
    "# Linear Entanglement ansatz circuit.\n",
    "le_ansatz = TwoLocal(num_qubits, 'ry', 'cx',  entanglement='linear', reps=1)\n",
    "\n",
    "alpha = 0.5 # confidence level for CVaR\n",
    "\n",
    "params_le = np.array([np.random.random()]*le_ansatz.num_parameters)\n",
    "vqe_le = VQE(qubo=qubo, ansatz=le_ansatz, sampler=sampler, params=params_le, prob_opt_sol=True)\n",
    "\n",
    "# Now run the minimization procedure.\n",
    "vqe_le.run(alpha=alpha, maxiter=20)\n",
    "\n",
    "# history records the probability of lowest sampled energy at each iteration.\n",
    "vqe_le.history"
   ]
  },
  {
   "cell_type": "markdown",
   "metadata": {},
   "source": [
    "The QUBO we solved is from a 3D RISM file. If you want to solve an arbitrary QUBO, we can do that as well."
   ]
  },
  {
   "cell_type": "code",
   "execution_count": 15,
   "metadata": {},
   "outputs": [
    {
     "data": {
      "text/plain": [
       "[['1111', 0.6681, -1.9688681178665814],\n",
       " ['1111', 0.4334, -1.9688681178665814],\n",
       " ['1111', 0.4305, -1.9688681178665814],\n",
       " ['1111', 0.4094, -1.9688681178665814],\n",
       " ['1111', 0.2711, -1.9688681178665814],\n",
       " ['1111', 0.4264, -1.9688681178665814],\n",
       " ['1111', 0.4449, -1.9688681178665814],\n",
       " ['1111', 0.4292, -1.9688681178665814],\n",
       " ['1111', 0.3186, -1.9688681178665814],\n",
       " ['1111', 0.8658, -1.9688681178665814],\n",
       " ['1111', 0.8055, -1.9688681178665814],\n",
       " ['1111', 0.7089, -1.9688681178665814],\n",
       " ['1111', 0.675, -1.9688681178665814],\n",
       " ['1111', 0.6488, -1.9688681178665814],\n",
       " ['1111', 0.6732, -1.9688681178665814],\n",
       " ['1111', 0.6729, -1.9688681178665814],\n",
       " ['1111', 0.6325, -1.9688681178665814],\n",
       " ['1111', 0.6415, -1.9688681178665814],\n",
       " ['1111', 0.605, -1.9688681178665814],\n",
       " ['1111', 0.6721, -1.9688681178665814]]"
      ]
     },
     "execution_count": 15,
     "metadata": {},
     "output_type": "execute_result"
    }
   ],
   "source": [
    "# Define the QUBO matrix that you want to solve. Here we use a random symmetric matrix.\n",
    "\n",
    "np.random.seed(1)\n",
    "n = 4  # Size of the matrix\n",
    "random_matrix = np.random.uniform(-0.5, 0.5, size=(n, n))\n",
    "Q = (random_matrix + random_matrix.T)/2\n",
    "\n",
    "\n",
    "# Now, the workflow is the same as above: define your favorite ansatz and minimize.\n",
    "num_qubits = len(Q)\n",
    "full_ansatz = TwoLocal(num_qubits, 'ry', 'cx',  entanglement='full', reps=1)\n",
    "\n",
    "alpha = 0.5 # confidence level for CVaR\n",
    "\n",
    "params_full = np.array([np.random.random()]*full_ansatz.num_parameters)\n",
    "vqe_full = VQE(qubo=Q, ansatz=full_ansatz, sampler=sampler, params=params_full, prob_opt_sol=True)\n",
    "\n",
    "# Now run the minimization procedure.\n",
    "vqe_full.run(alpha=alpha, maxiter=20)\n",
    "\n",
    "# History records the probability of lowest sampled energy at each iteration.\n",
    "vqe_full.history"
   ]
  },
  {
   "cell_type": "code",
   "execution_count": null,
   "metadata": {},
   "outputs": [],
   "source": []
  }
 ],
 "metadata": {
  "kernelspec": {
   "display_name": ".venv",
   "language": "python",
   "name": "python3"
  },
  "language_info": {
   "codemirror_mode": {
    "name": "ipython",
    "version": 3
   },
   "file_extension": ".py",
   "mimetype": "text/x-python",
   "name": "python",
   "nbconvert_exporter": "python",
   "pygments_lexer": "ipython3",
   "version": "3.10.9"
  }
 },
 "nbformat": 4,
 "nbformat_minor": 2
}
