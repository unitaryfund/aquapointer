{
 "cells": [
  {
   "cell_type": "code",
   "execution_count": 1,
   "metadata": {},
   "outputs": [],
   "source": [
    "import numpy as np\n",
    "from pulser import Pulse, Sequence, Register\n",
    "from pulser.devices import MockDevice, AnalogDevice\n",
    "from pulser.waveforms import InterpolatedWaveform\n",
    "from pulser_simulation import QutipBackend\n",
    "import matplotlib.pyplot as plt\n",
    "import pickle\n",
    "\n",
    "from aquapointer import qubo_solution, density_mapping, water_placement, processor\n",
    "from aquapointer.analog.utils import benchmark_utils as bmu, density_utils as du, detuning_scale_utils as dsu"
   ]
  },
  {
   "cell_type": "code",
   "execution_count": 2,
   "metadata": {},
   "outputs": [],
   "source": [
    "# The 3D-RISM density slices are saved as pickled files in the folder MUP1.\n",
    "# They are indexed by a number (see d_list) which represents the distance in Angstrom\n",
    "# from the central slice.\n",
    "\n",
    "d_list = [-1.0, -0.5, 0.0, 0.5, 1.0, 1.5]\n",
    "\n",
    "# import slices\n",
    "path = \"../data/MUP1/MUP1_logfilter8_slices/\"\n",
    "basename = \"_density_slice_MUP1_logfilter8.p\"\n",
    "densities = []\n",
    "for d in d_list:\n",
    "    filename = path + f\"d{d}\" + basename\n",
    "    with open(filename, 'rb') as file_in:\n",
    "         densities.append(pickle.load(file_in))\n",
    "            \n",
    "# import slice coordinates (these are 3D coordinates in\n",
    "# angstroms, they are needed at the very end to map\n",
    "# excited qubits to positions in the protein cavity)\n",
    "path = \"../data/MUP1/MUP1_logfilter8_points/\"\n",
    "basename = \"_plane_points_MUP1.p\"\n",
    "points = []\n",
    "for d in d_list:\n",
    "    filename = path + f\"d{d}\" + basename\n",
    "    with open(filename, 'rb') as file_in:\n",
    "         points.append(pickle.load(file_in))\n"
   ]
  },
  {
   "cell_type": "code",
   "execution_count": 3,
   "metadata": {},
   "outputs": [],
   "source": [
    "# The register associated to each slide can be found in the folder nb/registers.\n",
    "# Two types of files are saved there:\n",
    "# - position_<#>.npy: the positions of the qubits in micrometers, as if they were in the QPU\n",
    "# - rescaled_position_<#>.npy: the positions of the qubits on the same scale as the density slices\n",
    "\n",
    "# import registers\n",
    "path = \"../registers/\"\n",
    "basename = \"position_\"\n",
    "positions = []\n",
    "registers = []\n",
    "for i in range(len(d_list)):\n",
    "    with open(f'../registers/position_{i}.npy', 'rb') as file_in:\n",
    "        pos = np.load(file_in)\n",
    "    positions.append(pos)\n",
    "    registers.append(Register.from_coordinates(pos)) # this is to create a Pulser register object\n",
    "\n",
    "basename = \"rescaled_position_\"\n",
    "rescaled_positions = []\n",
    "for i in range(len(d_list)):\n",
    "    with open(f'../registers/rescaled_position_{i}.npy', 'rb') as file_in:\n",
    "        res_pos = np.load(file_in)\n",
    "    rescaled_positions.append(res_pos)"
   ]
  },
  {
   "cell_type": "code",
   "execution_count": 4,
   "metadata": {},
   "outputs": [],
   "source": [
    "def executor(pulse_seq, num_samples):\n",
    "    sim = QutipBackend(pulse_seq)\n",
    "    res = sim.run()\n",
    "    return res.sample_final_state(num_samples)"
   ]
  },
  {
   "cell_type": "code",
   "execution_count": 5,
   "metadata": {},
   "outputs": [],
   "source": [
    "# choose the maximum detuning allowed\n",
    "max_det = AnalogDevice.channel_objects[0].max_abs_detuning-1\n",
    "\n",
    "# choose a blockade radius (in micrometers)\n",
    "# which in turns defines a Rabi frequency\n",
    "brad = 7\n",
    "omega = AnalogDevice.rabi_from_blockade(brad)\n",
    "\n",
    "# choose a pulse duration\n",
    "T = 3000\n",
    "\n",
    "pulse_settings = processor.PulseSettings(brad=brad, omega=omega, pulse_duration=T, max_det=max_det)\n",
    "processor_configs = [processor.AnalogProcessor(device=MockDevice, pos=pos, pos_id=p, pulse_settings=pulse_settings) for p, pos in enumerate(positions)]"
   ]
  },
  {
   "cell_type": "code",
   "execution_count": 6,
   "metadata": {},
   "outputs": [],
   "source": [
    "params = qubo_solution.fit_gaussian(densities[0])\n",
    "var, amp = params[0], params[3]"
   ]
  },
  {
   "cell_type": "code",
   "execution_count": 13,
   "metadata": {},
   "outputs": [
    {
     "name": "stdout",
     "output_type": "stream",
     "text": [
      "Processing density 1 of 6\n",
      "Density 1 has 4 qubits\n",
      "The best solution is:  1000\n",
      "The best solution according to best_solution_from_samples is: 1000\n",
      "True\n",
      "\n",
      "Processing density 2 of 6\n",
      "Density 2 has 9 qubits\n",
      "The best solution is:  010000010\n",
      "The best solution according to best_solution_from_samples is: 010001001\n",
      "False\n",
      "\n",
      "Processing density 3 of 6\n",
      "Density 3 has 14 qubits\n",
      "The best solution is:  00001001000000\n",
      "The best solution according to best_solution_from_samples is: 11000010010100\n",
      "False\n",
      "\n",
      "Processing density 4 of 6\n",
      "Density 4 has 14 qubits\n",
      "The best solution is:  00000010100000\n",
      "The best solution according to best_solution_from_samples is: 00100000101000\n",
      "False\n",
      "\n",
      "Processing density 5 of 6\n",
      "Density 5 has 13 qubits\n",
      "The best solution is:  0000010100000\n",
      "The best solution according to best_solution_from_samples is: 0001010100000\n",
      "False\n",
      "\n",
      "Processing density 6 of 6\n",
      "Density 6 has 8 qubits\n",
      "The best solution is:  00010000\n",
      "The best solution according to best_solution_from_samples is: 10000001\n",
      "False\n",
      "\n"
     ]
    }
   ],
   "source": [
    "test_best_solutions = []\n",
    "\n",
    "variance = 50\n",
    "amplitude = 6\n",
    "best_solutions = []\n",
    "samplings = []\n",
    "for k, density in enumerate(densities):\n",
    "    \n",
    "    # print some stuff, unimportant\n",
    "    print(f\"Processing density {k+1} of {len(densities)}\")\n",
    "    reg = registers[k]\n",
    "    pos = positions[k]\n",
    "    rescaled_pos = rescaled_positions[k]\n",
    "    n = len(pos)\n",
    "    print(f\"Density {k+1} has {n} qubits\")\n",
    "    # reg.draw()\n",
    "    # fig, ax = dsu.plot_density(density, rescaled_pos)\n",
    "    # # plt.show()\n",
    "    \n",
    "    # use function to calculate the one-body coefficients of the QUBO\n",
    "    gamma_list = dsu.gamma_list(density, rescaled_pos, variance)\n",
    "    \n",
    "    # roundabout way of finding the scale factor between the QPU units\n",
    "    # and the density units, it's needed in the next block\n",
    "    distances_density = dsu.find_possible_distances(rescaled_pos)\n",
    "    distances_register = dsu.find_possible_distances(pos)\n",
    "    scale = distances_density[0]/distances_register[0]\n",
    "    \n",
    "    # test_gamma_list, test_scale = qubo_solution.calculate_one_body_qubo_coeffs(density, rescaled_pos, variance, pos)\n",
    "    # print(\"test coeffs and scale\")\n",
    "    # print(test_gamma_list == gamma_list)\n",
    "    # print(test_scale == scale)\n",
    "    # calculate mapping between one-body coefficients of the QUBO\n",
    "    # and detunings\n",
    "    dets = np.array([item for item in gamma_list])\n",
    "    for i in range(n):\n",
    "        # this line shifts every value by a quantity that is the mean of neighbouring detunings\n",
    "        # where a neighbour is defined as atoms whithin a blockade radius distance\n",
    "        dets[i] -= np.mean(dsu.neighbouring_gamma_list(density, rescaled_pos, rescaled_pos[i], scale*brad, variance))\n",
    "    # the next line line rescales every detuning so that the maximum one\n",
    "    # turns out to be `max_det` (see first line of this cell)\n",
    "    dets *= max_det/np.max(np.abs(dets))\n",
    "    # test_dets =  qubo_solution.scale_detunings(density, pos, rescaled_pos, brad, variance, max_det)\n",
    "\n",
    "    # print(\"test dets\")\n",
    "    # print(dets == test_dets)\n",
    "\n",
    "    # test_seq = qubo_solution.generate_pulse_sequences(MockDevice, reg, dets, max_det, T, omega)\n",
    "    # Pulser stuff begins --------------------------\n",
    "    seq = Sequence(reg, MockDevice)\n",
    "    for i in range(n):\n",
    "        # add an adiabatic pulse for every qubit\n",
    "        seq.declare_channel(f'ch{i}', 'rydberg_local')\n",
    "        seq.target(i, f'ch{i}')\n",
    "        pulse = Pulse(InterpolatedWaveform(T, [0, omega, 0]), InterpolatedWaveform(T, [-max_det, 0, dets[i]]), 0)\n",
    "        seq.add(pulse, f'ch{i}')\n",
    "    # uncomment next line if you want to visualize the pulse sequence\n",
    "    # # seq.draw()\n",
    "    # print(\"test sequences\")\n",
    "    # print(test_seq.to_abstract_repr() == seq.to_abstract_repr())\n",
    "    \n",
    "\n",
    "    # # run simulation\n",
    "    sim = QutipBackend(seq)\n",
    "    res = sim.run()\n",
    "    samples = res.sample_final_state(1000)\n",
    "    # # Pulser stuff ends ----------------------------\n",
    "\n",
    "    # num_samples = 1000\n",
    "    # print(\"test qubo flow\")\n",
    "    test_best_solution = qubo_solution.run_qubo(density, executor, processor_configs[k], var, amp) \n",
    "    # The next block calculates the cost (from the QUBO) of each\n",
    "    # bitstring sampled with the analog algorithm \n",
    "    quantum_solutions = sorted(samples.items(), key=lambda x: x[1], reverse=True)\n",
    "    quantum_plus_classical_solutions = []\n",
    "    for bitstring, count in quantum_solutions:\n",
    "        # calculate QUBO cost of bitstring\n",
    "        ising = dsu.ising_energies(rescaled_pos, density, variance, [bitstring], brad, amp=amplitude)\n",
    "        # the next try-except block is needed because the QUBO cost calculated in the line above\n",
    "        # resturns empty whenever the blockade constraint is not respected\n",
    "        try:\n",
    "            i_bit = ising[0][0]\n",
    "            i_en = ising[0][1]\n",
    "            quantum_plus_classical_solutions.append((bitstring, count, i_en)) \n",
    "        except IndexError:\n",
    "            i_bit = bitstring\n",
    "            i_en = 1e10\n",
    "            quantum_plus_classical_solutions.append((bitstring, count, i_en)) \n",
    "        # print(bitstring, count, i_en)\n",
    "    # print the best solution, which is defined as the bitstring sampled with the analog algorithm\n",
    "    # that has the lowest cost in the QUBO\n",
    "    best_solution = sorted(quantum_plus_classical_solutions, key=lambda x: x[2], reverse=False)[0][0]\n",
    "    best_solutions.append(best_solution)\n",
    "    \n",
    "    test_best_solutions.append(test_best_solution)\n",
    "    \n",
    "    samplings.append(np.array(quantum_plus_classical_solutions, dtype=object))\n",
    "    print(\"The best solution is: \", best_solution)\n",
    "    \n",
    "    print(\"The best solution according to best_solution_from_samples is:\", test_best_solution)\n",
    "    \n",
    "    print(test_best_solution == best_solution)\n",
    "    # test_best_solution =  qubo_solution.best_solution_from_samples(samples, rescaled_pos, density, brad, variance, amplitude)\n",
    "    \n",
    "    print()"
   ]
  },
  {
   "cell_type": "code",
   "execution_count": 9,
   "metadata": {},
   "outputs": [
    {
     "data": {
      "text/plain": [
       "(50, 6)"
      ]
     },
     "execution_count": 9,
     "metadata": {},
     "output_type": "execute_result"
    }
   ],
   "source": [
    "variance, amplitude"
   ]
  },
  {
   "cell_type": "code",
   "execution_count": 14,
   "metadata": {},
   "outputs": [
    {
     "name": "stdout",
     "output_type": "stream",
     "text": [
      "1000\n",
      "010000010\n",
      "00001001000000\n",
      "00000010100000\n",
      "0000010100000\n",
      "00010000\n"
     ]
    }
   ],
   "source": [
    "test_solutions = []\n",
    "for k, density in enumerate(densities):\n",
    "     test_solution = qubo_solution.run_qubo(density, executor, processor_configs[k], variance, amplitude)\n",
    "     print(test_solution)\n",
    "     test_solutions.append(test_solution)"
   ]
  },
  {
   "cell_type": "code",
   "execution_count": 15,
   "metadata": {},
   "outputs": [
    {
     "data": {
      "text/plain": [
       "(26.363249971787667, 3.0717463195910923)"
      ]
     },
     "execution_count": 15,
     "metadata": {},
     "output_type": "execute_result"
    }
   ],
   "source": [
    "var, amp"
   ]
  },
  {
   "cell_type": "code",
   "execution_count": 16,
   "metadata": {},
   "outputs": [
    {
     "name": "stdout",
     "output_type": "stream",
     "text": [
      "1000\n",
      "001000000\n",
      "00001001000000\n",
      "00000010000001\n",
      "1000000000000\n",
      "00010000\n"
     ]
    }
   ],
   "source": [
    "test_solutions = []\n",
    "for k, d in enumerate(densities):\n",
    "     params = qubo_solution.fit_gaussian(d)\n",
    "     var, amp = params[0], params[3]\n",
    "     test_solution = qubo_solution.run_qubo(d, executor, processor_configs[k], var, amp)\n",
    "     print(test_solution)\n",
    "     test_solutions.append(test_solution)"
   ]
  },
  {
   "cell_type": "code",
   "execution_count": 9,
   "metadata": {},
   "outputs": [
    {
     "data": {
      "text/plain": [
       "[(26.362972113374326, 3.0717301323722404),\n",
       " (1.0000000042077073, -9.78361169856612e-10),\n",
       " (1.0000000042077073, -9.78361169856612e-10),\n",
       " (1.0000000042077073, -9.78361169856612e-10),\n",
       " (1.7663794141362437, 0.00033235674008244944),\n",
       " (40.979512966559554, 7.679969802781374)]"
      ]
     },
     "execution_count": 9,
     "metadata": {},
     "output_type": "execute_result"
    }
   ],
   "source": [
    "param_sets = []\n",
    "for k, d in enumerate(densities):\n",
    "     params = qubo_solution.fit_gaussian(d)\n",
    "     param_sets.append((params[0], params[3]))\n",
    "param_sets"
   ]
  },
  {
   "cell_type": "code",
   "execution_count": 6,
   "metadata": {},
   "outputs": [
    {
     "name": "stdout",
     "output_type": "stream",
     "text": [
      "1000\n",
      "001000000\n",
      "00000000001000\n",
      "00000000000000\n",
      "0010100100000\n",
      "00010000\n"
     ]
    }
   ],
   "source": [
    "test_solutions = []\n",
    "for k, d in enumerate(densities):\n",
    "     params = qubo_solution.fit_gaussian(d)\n",
    "     var, amp = params[0], params[3]\n",
    "     test_solution = qubo_solution.run_qubo(d, executor, processor_configs[k], var, amp)\n",
    "     print(test_solution)\n",
    "     test_solutions.append(test_solution)"
   ]
  },
  {
   "cell_type": "code",
   "execution_count": 12,
   "metadata": {},
   "outputs": [
    {
     "data": {
      "image/png": "[encoded data removed]",
      "text/plain": [
       "<Figure size 640x480 with 2 Axes>"
      ]
     },
     "metadata": {},
     "output_type": "display_data"
    }
   ],
   "source": [
    "G = amplitude*dsu.gaussian_mixture(densities[0].shape, variance, [(58,48.2)])\n",
    "plt.pcolormesh((densities[0]-G)[30:,40:])\n",
    "plt.colorbar()\n",
    "plt.show()"
   ]
  },
  {
   "cell_type": "code",
   "execution_count": 13,
   "metadata": {},
   "outputs": [
    {
     "data": {
      "image/png": "[encoded data removed]",
      "text/plain": [
       "<Figure size 640x480 with 2 Axes>"
      ]
     },
     "metadata": {},
     "output_type": "display_data"
    }
   ],
   "source": [
    "params = qubo_solution.fit_gaussian(densities[0])\n",
    "var, amp = params[0], params[3]\n",
    "G = amp*dsu.gaussian_mixture(densities[0].shape, var, [(58,48.2)])\n",
    "plt.pcolormesh((densities[0]-G)[30:,40:])\n",
    "plt.colorbar()\n",
    "plt.show()"
   ]
  },
  {
   "cell_type": "code",
   "execution_count": null,
   "metadata": {},
   "outputs": [],
   "source": [
    "G = amplitude*dsu.gaussian_mixture(densities[0].shape, variance, [(58,48.2)])\n",
    "plt.pcolormesh((densities[0]-G)[30:,40:])\n",
    "plt.colorbar()\n",
    "plt.show()"
   ]
  }
 ],
 "metadata": {
  "interpreter": {
   "hash": "9d9d1943cf8cf0a54358804c0c8d794e0dbe8eac626d78a5174e485fc43ad4da"
  },
  "kernelspec": {
   "display_name": "Python 3.10.4 64-bit ('water-placement')",
   "language": "python",
   "name": "python3"
  },
  "language_info": {
   "codemirror_mode": {
    "name": "ipython",
    "version": 3
   },
   "file_extension": ".py",
   "mimetype": "text/x-python",
   "name": "python",
   "nbconvert_exporter": "python",
   "pygments_lexer": "ipython3",
   "version": "3.10.4"
  },
  "orig_nbformat": 4
 },
 "nbformat": 4,
 "nbformat_minor": 2
}
