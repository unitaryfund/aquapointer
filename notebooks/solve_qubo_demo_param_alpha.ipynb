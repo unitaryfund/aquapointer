{
 "cells": [
  {
   "cell_type": "markdown",
   "metadata": {},
   "source": [
    "# Notebook demo of using vqe module to solve a QUBO"
   ]
  },
  {
   "cell_type": "code",
   "execution_count": 9,
   "metadata": {},
   "outputs": [],
   "source": [
    "from aquapointer.digital.loaddata import LoadData\n",
    "from aquapointer.digital.qubo import Qubo\n",
    "import aquapointer.digital.qubo_utils as qutils\n",
    "from aquapointer.digital.vqe import VQE\n",
    "\n",
    "# General imports\n",
    "import numpy as np\n",
    "\n",
    "# Pre-defined ansatz circuit, operator class\n",
    "from qiskit.circuit.library import QAOAAnsatz\n",
    "from qiskit.primitives import Sampler\n",
    "from qiskit import transpile \n",
    "from qiskit import Aer\n",
    "\n",
    "backend = Aer.get_backend('aer_simulator')\n",
    "sampler = Sampler(options={\"shots\": int(1e4)})"
   ]
  },
  {
   "cell_type": "code",
   "execution_count": 10,
   "metadata": {},
   "outputs": [],
   "source": [
    "# LoadData does all the file loading\n",
    "ld = LoadData()\n",
    "\n",
    "# Qubo computes all the qubo matrices given the 3d rism files and rescaled positions of registers from LoadData.\n",
    "q = Qubo(ld)"
   ]
  },
  {
   "cell_type": "code",
   "execution_count": 11,
   "metadata": {},
   "outputs": [
    {
     "data": {
      "text/plain": [
       "array([[-0.01074377,  0.04727714,  0.04727714,  0.04727714],\n",
       "       [ 0.04727714, -0.00892812,  0.03218907,  0.04727714],\n",
       "       [ 0.04727714,  0.03218907, -0.00865155,  0.04727714],\n",
       "       [ 0.04727714,  0.04727714,  0.04727714, -0.00969204]])"
      ]
     },
     "execution_count": 11,
     "metadata": {},
     "output_type": "execute_result"
    }
   ],
   "source": [
    "# use the first slice as an example to solve\n",
    "qubo, ising_ham = q.qubo_hamiltonian_pairs[0]\n",
    "num_qubits = len(qubo)\n",
    "\n",
    "# QAOA ansatz circuit\n",
    "qaoa_ansatz = QAOAAnsatz(ising_ham, reps=1)\n",
    "\n",
    "from qiskit.circuit.library import TwoLocal\n",
    "# TwoLocal ansatz circuit\n",
    "twolocal_ansatz = TwoLocal(num_qubits, 'ry', 'cx',  entanglement='linear', reps=1)\n",
    "qubo"
   ]
  },
  {
   "cell_type": "code",
   "execution_count": 12,
   "metadata": {},
   "outputs": [
    {
     "data": {
      "text/plain": [
       "('1000', -0.010743767178636635)"
      ]
     },
     "execution_count": 12,
     "metadata": {},
     "output_type": "execute_result"
    }
   ],
   "source": [
    "# classical brute-force solution\n",
    "sol, ref_value = q.find_optimum(qubo=qubo)\n",
    "sol, ref_value"
   ]
  },
  {
   "cell_type": "code",
   "execution_count": 13,
   "metadata": {},
   "outputs": [
    {
     "data": {
      "text/plain": [
       "(2, 8)"
      ]
     },
     "execution_count": 13,
     "metadata": {},
     "output_type": "execute_result"
    }
   ],
   "source": [
    "qaoa_ansatz.num_parameters, twolocal_ansatz.num_parameters"
   ]
  },
  {
   "cell_type": "code",
   "execution_count": 14,
   "metadata": {},
   "outputs": [
    {
     "data": {
      "text/plain": [
       "OrderedDict([('cx', 24), ('u1', 16), ('u2', 4), ('u3', 4)])"
      ]
     },
     "execution_count": 14,
     "metadata": {},
     "output_type": "execute_result"
    }
   ],
   "source": [
    "transpiles = transpile(qaoa_ansatz, backend, basis_gates=['u1', 'u2', 'u3', 'cx'], optimization_level=2)\n",
    "transpiles.count_ops()"
   ]
  },
  {
   "cell_type": "code",
   "execution_count": 15,
   "metadata": {},
   "outputs": [],
   "source": [
    "# EXAMPLE: QAQA\n",
    "\n",
    "alphas = [1.0, 0.75, 0.5, 0.25, 0.1]\n",
    "beta  = [0.7977]#, 0.7905, 0.5657]#, 0.4189]#, 0.3575, 0.3279, 0.2785, 0.1911, 0.1384, 0.0885]\n",
    "gamma = [0.0765]#, 0.1634, 0.3662]#, 0.5890]#, 0.7046, 0.7594, 0.8345, 0.9352, 0.9529, 0.9976]\n",
    "params = beta+gamma\n",
    "vqe_qaoa = VQE(qubo=qubo, ansatz=qaoa_ansatz, ising_ham=ising_ham, sampler=sampler, params=params)"
   ]
  },
  {
   "cell_type": "code",
   "execution_count": 16,
   "metadata": {},
   "outputs": [],
   "source": [
    "vqe_qaoa = VQE(qubo=qubo, ansatz=qaoa_ansatz, ising_ham=ising_ham, sampler=sampler, params=params)\n",
    "cvar_w_alpha = VQE.run_cvar_w_alpha(vqe_qaoa, maxiter=20)"
   ]
  },
  {
   "cell_type": "code",
   "execution_count": 17,
   "metadata": {},
   "outputs": [
    {
     "data": {
      "text/plain": [
       "array([1.7977    , 1.0765    , 1.62210017])"
      ]
     },
     "execution_count": 17,
     "metadata": {},
     "output_type": "execute_result"
    }
   ],
   "source": [
    "vqe_qaoa.opt_params"
   ]
  },
  {
   "cell_type": "code",
   "execution_count": 18,
   "metadata": {},
   "outputs": [],
   "source": [
    "def top_avg_energy_w_param_alpha(vqe_object: VQE, maxiter: int, fraction: float, verbose=False):\n",
    "\n",
    "    res = vqe_object.run_cvar_w_alpha(maxiter=maxiter, method='COBYLA')\n",
    "    nfev = res.nfev\n",
    "\n",
    "    # Assign solution parameters to ansatz\n",
    "    qc = vqe_object.ansatz.assign_parameters(vqe_object.opt_params[:-1])\n",
    "    # Add measurements to our circuit\n",
    "    qc.measure_all()\n",
    "    # Sample ansatz at optimal parameters\n",
    "    samp_dist = sampler.run(qc, shots=int(1e4)).result().quasi_dists[0]\n",
    "    samp_dist_binary = samp_dist.binary_probabilities()\n",
    "\n",
    "    correct_dist = {}\n",
    "    for key in samp_dist_binary.keys():\n",
    "        reverse_key = key[::-1]\n",
    "        keynot = [(int(b)+1)%2 for b in reverse_key]\n",
    "        correct_dist[''.join(map(str, keynot))] = samp_dist_binary[key]\n",
    "\n",
    "    prob_energy = []\n",
    "    bitstrings = []\n",
    "    for key in correct_dist.keys():\n",
    "        key_np = np.fromiter(map(int, key), dtype=int)\n",
    "        prob_energy.append([correct_dist[key], qutils.ising_energy(key_np, qubo)])\n",
    "        bitstrings.append(key)\n",
    "\n",
    "    bitstrings = np.array(bitstrings)\n",
    "    prob_energy = np.array(prob_energy)\n",
    "\n",
    "    sorted_indices = np.argsort(prob_energy[:, 1])\n",
    "    sorted_keys = bitstrings[sorted_indices]\n",
    "    sorted_values = prob_energy[:, 1][sorted_indices]\n",
    "\n",
    "    opt_energy = sorted_values[0]\n",
    "    opt_b = sorted_keys[0]\n",
    "    \n",
    "    #pick top 10% of lowest observed energies and compute probability mass on them\n",
    "    n = int(len(prob_energy)*fraction)\n",
    "    if verbose:\n",
    "        if n<=1:\n",
    "            print(prob_energy)\n",
    "\n",
    "    total_mass = 0.0\n",
    "    top_avg_energy = 0.0\n",
    "    for i in range(n):\n",
    "        total_mass += correct_dist[sorted_keys[i]]\n",
    "        top_avg_energy += sorted_values[i]*correct_dist[sorted_keys[i]]\n",
    "        if verbose:\n",
    "            print(sorted_values[i], correct_dist[sorted_keys[i]])\n",
    "    top_avg_energy = top_avg_energy / total_mass\n",
    "    return round(top_avg_energy, 5), round(total_mass, 3), nfev, (opt_b, opt_energy)  "
   ]
  },
  {
   "cell_type": "code",
   "execution_count": 19,
   "metadata": {},
   "outputs": [
    {
     "name": "stdout",
     "output_type": "stream",
     "text": [
      "('1000', -0.010743767178636635)\n",
      "None, -0.0098, 0.185\n",
      "1.0, -0.00978, 0.171\n",
      "0.75, -0.00977, 0.195\n",
      "0.5, -0.00981, 0.187\n",
      "0.25, -0.00979, 0.203\n",
      "0.1, -0.00979, 0.173\n"
     ]
    }
   ],
   "source": [
    "# run the optimization for a given vqe_object and a list of confidence intervals\n",
    "initial_alphas = [None] + alphas\n",
    "maxiter = 20\n",
    "nfevs = [] #this is for book keeping the number of function evaluations    \n",
    "opt_energy = np.inf\n",
    "for alpha0 in initial_alphas:\n",
    "    vqe_obj = VQE(qubo=qubo, ansatz=qaoa_ansatz, ising_ham=ising_ham, sampler=sampler, params=params, alpha0=alpha0)\n",
    "    top_avg_energy, total_mass, nfev, opt = top_avg_energy_w_param_alpha(vqe_obj, maxiter, 0.2, verbose=False)\n",
    "    nfevs.append(nfev)\n",
    "    if opt_energy>opt[1]:\n",
    "        opt_energy = opt[1]\n",
    "        res = opt\n",
    "        print(opt)\n",
    "    print(f\"{alpha0}, {top_avg_energy}, {total_mass}\")"
   ]
  },
  {
   "cell_type": "code",
   "execution_count": null,
   "metadata": {},
   "outputs": [],
   "source": [
    "# # now we solve all the qubo's and output optimal bitstrings of for each slice using QAOA and twolocal ansatz\n",
    "# alphas = [1.0, 0.66, 0.33]\n",
    "# nfevs_qaoa_slices = []\n",
    "# nfevs_linear_slices = []\n",
    "\n",
    "# res_qaoa_slices = []\n",
    "# res_linear_slices = []\n",
    "\n",
    "# for qubo, ising_ham in q.qubo_hamiltonian_pairs:\n",
    "    \n",
    "#     num_qubits = len(qubo)\n",
    "#     qaoa_ansatz = QAOAAnsatz(ising_ham, reps=1)\n",
    "#     beta  = [0.7977]#, 0.7905, 0.5657]#, 0.4189]#, 0.3575, 0.3279, 0.2785, 0.1911, 0.1384, 0.0885]\n",
    "#     gamma = [0.0765]#, 0.1634, 0.3662]#, 0.5890]#, 0.7046, 0.7594, 0.8345, 0.9352, 0.9529, 0.9976]\n",
    "#     params = beta+gamma\n",
    "#     vqe_qaoa = VQE(qubo=qubo, ansatz=qaoa_ansatz, ising_ham=ising_ham, sampler=sampler, params=params)\n",
    "\n",
    "#     #using linear entanglement ansatz\n",
    "#     # TwoLocal ansatz circuit\n",
    "#     twolocal_ansatz = TwoLocal(num_qubits, 'ry', 'cx',  entanglement='linear', reps=1)\n",
    "#     vqe_linear = VQE(qubo=qubo, ansatz=twolocal_ansatz, ising_ham=ising_ham, sampler=sampler, params=None)\n",
    "\n",
    "#     # compute number of gates to specify maxiter for the different ansatzes\n",
    "#     # to keep it fair, we want number_of_gates * maxiter to be the same for both instances\n",
    "#     resources_qaoa, resources_twolocal = total_gates(qaoa_ansatz), total_gates(twolocal_ansatz)\n",
    "#     maxiter_qaoa = 10\n",
    "#     maxiter_linear = int(maxiter_qaoa * (resources_qaoa[1]/resources_twolocal[1]) * (resources_qaoa[2]/resources_twolocal[2]))\n",
    "\n",
    "#     print(maxiter_qaoa, maxiter_linear)\n",
    "\n",
    "#     print('qaoa')\n",
    "#     nfevs_qaoa, res_qaoa = run_optimization(vqe_qaoa, alphas, maxiter=maxiter_qaoa)\n",
    "#     nfevs_qaoa_slices.append(nfevs_qaoa)\n",
    "#     res_qaoa_slices.append(res_qaoa)\n",
    "\n",
    "#     print('linear')\n",
    "#     nfevs_linear, res_linear = run_optimization(vqe_linear, alphas, maxiter=maxiter_linear)\n",
    "#     nfevs_linear_slices.append(nfevs_linear)\n",
    "#     res_linear_slices.append(res_linear)\n"
   ]
  },
  {
   "cell_type": "code",
   "execution_count": null,
   "metadata": {},
   "outputs": [],
   "source": [
    "# res_qaoa_slices"
   ]
  },
  {
   "cell_type": "code",
   "execution_count": null,
   "metadata": {},
   "outputs": [],
   "source": [
    "# res_linear_slices"
   ]
  },
  {
   "cell_type": "code",
   "execution_count": null,
   "metadata": {},
   "outputs": [],
   "source": [
    "# now apply the function that maps these bitstrings to water molecule position"
   ]
  },
  {
   "cell_type": "markdown",
   "metadata": {},
   "source": [
    "# Resource estimation/performance"
   ]
  },
  {
   "cell_type": "code",
   "execution_count": null,
   "metadata": {},
   "outputs": [],
   "source": [
    "# depth * number_of_params * maxiter is the same for both approaches, this makes a fair comparison in performance"
   ]
  },
  {
   "cell_type": "code",
   "execution_count": null,
   "metadata": {},
   "outputs": [
    {
     "data": {
      "text/plain": [
       "('1000', -0.010743767178636635, 0.0978)"
      ]
     },
     "execution_count": 16,
     "metadata": {},
     "output_type": "execute_result"
    }
   ],
   "source": [
    "# EXAMPLE: QAQA\n",
    "\n",
    "alphas = [1.0, 0.75, 0.5, 0.25, 0.1]\n",
    "beta  = [0.7977]#, 0.7905, 0.5657]#, 0.4189]#, 0.3575, 0.3279, 0.2785, 0.1911, 0.1384, 0.0885]\n",
    "gamma = [0.0765]#, 0.1634, 0.3662]#, 0.5890]#, 0.7046, 0.7594, 0.8345, 0.9352, 0.9529, 0.9976]\n",
    "params = beta+gamma\n",
    "vqe_qaoa = VQE(qubo=qubo, ansatz=qaoa_ansatz, ising_ham=ising_ham, sampler=sampler, params=params)\n",
    "\n",
    "probability_opt_sol(vqe_object=vqe_qaoa, alpha=0.9, maxiter=10)"
   ]
  },
  {
   "cell_type": "code",
   "execution_count": null,
   "metadata": {},
   "outputs": [
    {
     "data": {
      "text/plain": [
       "[('1000', -0.010743767178636635),\n",
       " ('010000001', -0.05676551209085727),\n",
       " ('10001000000001', -0.07861404665042948),\n",
       " ('10000000100100', -0.07111143020268126),\n",
       " ('0000010100000', -0.05195638819992217),\n",
       " ('00010000', -0.02404680978135616)]"
      ]
     },
     "execution_count": 17,
     "metadata": {},
     "output_type": "execute_result"
    }
   ],
   "source": [
    "# let us first list the optimal solutions for the qubo problems using the classical brute force approach\n",
    "optimal_solutions = []\n",
    "\n",
    "for qubo in q.qubo_hamiltonian_pairs:\n",
    "    # classical brute-force solution\n",
    "    solution = q.find_optimum(qubo=qubo[0])\n",
    "    optimal_solutions.append(solution)\n",
    "\n",
    "optimal_solutions"
   ]
  },
  {
   "cell_type": "code",
   "execution_count": null,
   "metadata": {},
   "outputs": [
    {
     "name": "stdout",
     "output_type": "stream",
     "text": [
      "slice 0\n",
      "QAQA time elapsed: 1.9205098152160645 \n",
      "twolocal time elapsed: 0.8133606910705566 \n",
      "slice 1\n",
      "QAQA time elapsed: 12.12155795097351 \n",
      "twolocal time elapsed: 6.642838954925537 \n",
      "slice 2\n",
      "QAQA time elapsed: 173.8450801372528 \n",
      "twolocal time elapsed: 248.9436550140381 \n",
      "slice 3\n",
      "QAQA time elapsed: 204.10208201408386 \n",
      "twolocal time elapsed: 243.63016176223755 \n",
      "slice 4\n",
      "QAQA time elapsed: 56.5631742477417 \n",
      "twolocal time elapsed: 77.53012609481812 \n",
      "slice 5\n",
      "QAQA time elapsed: 6.094420909881592 \n",
      "twolocal time elapsed: 4.460008859634399 \n"
     ]
    }
   ],
   "source": [
    "import time\n",
    "# now we solve all the qubo's and output optimal bitstrings of for each slice using QAOA and twolocal ansatz\n",
    "alphas = [1.0, 0.5]\n",
    "number_of_iterations = list(range(10, 50, 4))\n",
    "\n",
    "\n",
    "res_qaoa_slices = []\n",
    "res_linear_slices = []\n",
    "\n",
    "i = 0\n",
    "\n",
    "num_mc = 5\n",
    "\n",
    "for qubo, ising_ham in q.qubo_hamiltonian_pairs:\n",
    "    num_qubits = len(qubo)\n",
    "    opt_sol = optimal_solutions[i]\n",
    "    res_qaoa = []\n",
    "    res_linear = []\n",
    "    print(f\"slice {i}\")\n",
    "    i+=1\n",
    "    \n",
    "    # define the ansatzes\n",
    "    qaoa_ansatz = QAOAAnsatz(ising_ham, reps=1)\n",
    "    beta  = [0.7977]#, 0.7905, 0.5657]#, 0.4189]#, 0.3575, 0.3279, 0.2785, 0.1911, 0.1384, 0.0885]\n",
    "    gamma = [0.0765]#, 0.1634, 0.3662]#, 0.5890]#, 0.7046, 0.7594, 0.8345, 0.9352, 0.9529, 0.9976]\n",
    "    params = beta+gamma\n",
    "\n",
    "    # TwoLocal ansatz circuit\n",
    "    twolocal_ansatz = TwoLocal(num_qubits, 'ry', 'cx',  entanglement='linear', reps=1)\n",
    "\n",
    "    resources_qaoa, resources_twolocal = total_gates(qaoa_ansatz), total_gates(twolocal_ansatz)\n",
    "\n",
    "    iter_factor = int((resources_qaoa[1]/resources_twolocal[1]) * (resources_qaoa[2]/resources_twolocal[2]))\n",
    "    \n",
    "    for maxiter in number_of_iterations:\n",
    "        prob_qaoa = []\n",
    "        prob_linear = []\n",
    "        \n",
    "        # to keep it fair, we want depth * number_of_params * maxiter to be the same for both instances\n",
    "        maxiter_qaoa = maxiter\n",
    "        maxiter_linear = maxiter_qaoa * iter_factor\n",
    "\n",
    "        #time the last iteration\n",
    "        if maxiter == number_of_iterations[-1]:\n",
    "            start = time.time()\n",
    "        for _ in range(num_mc):\n",
    "            vqe_qaoa = VQE(qubo=qubo, ansatz=qaoa_ansatz, ising_ham=ising_ham, sampler=sampler, params=params)\n",
    "            # print('qaoa')\n",
    "            res = run_optimization_prob_opt_sol(vqe_qaoa, alphas, maxiter=maxiter_qaoa)\n",
    "            if opt_sol[0] == res[0]:\n",
    "                prob_qaoa.append(res[2])\n",
    "            else:\n",
    "                prob_qaoa.append(0.0)\n",
    "\n",
    "        if maxiter == number_of_iterations[-1]:\n",
    "            end = time.time()\n",
    "            print(f'QAQA time elapsed: {end-start} ')\n",
    "            \n",
    "        #time the last iteration\n",
    "        if maxiter == number_of_iterations[-1]:\n",
    "            start = time.time()\n",
    "        for _ in range(num_mc):\n",
    "            vqe_linear = VQE(qubo=qubo, ansatz=twolocal_ansatz, ising_ham=ising_ham, sampler=sampler, params=None)\n",
    "            # print('linear')\n",
    "            res = run_optimization_prob_opt_sol(vqe_linear, alphas, maxiter=maxiter_linear)\n",
    "            if opt_sol[0] == res[0]:\n",
    "                prob_linear.append(res[2])\n",
    "            else:\n",
    "                prob_linear.append(0.0)\n",
    "        if maxiter == number_of_iterations[-1]:\n",
    "            end = time.time()\n",
    "            print(f'twolocal time elapsed: {end-start} ')\n",
    "        res_qaoa.append(prob_qaoa)        \n",
    "        res_linear.append(prob_linear)\n",
    "    \n",
    "    res_qaoa_slices.append(res_qaoa)\n",
    "    res_linear_slices.append(res_linear)"
   ]
  },
  {
   "cell_type": "code",
   "execution_count": null,
   "metadata": {},
   "outputs": [
    {
     "data": {
      "image/png": "[encoded data removed]",
      "text/plain": [
       "<Figure size 950x450 with 1 Axes>"
      ]
     },
     "metadata": {},
     "output_type": "display_data"
    }
   ],
   "source": [
    "import matplotlib.pyplot as plt\n",
    "\n",
    "plt.rcParams[\"figure.figsize\"] = [9.50, 4.50]\n",
    "plt.rcParams[\"font.size\"] = 12\n",
    "plt.rcParams['axes.labelweight'] = 'bold'\n",
    "plt.rcParams['axes.titleweight'] = 'bold'\n",
    "\n",
    "slice = 4\n",
    "\n",
    "errorbar_linear = np.std(np.array(res_linear_slices[slice]))\n",
    "errorbar_qaoa = np.std(np.array(res_qaoa_slices[slice]))\n",
    "\n",
    "# plt.plot(number_of_iterations, np.mean(np.array(res_linear_slices[slice]), axis=1), '*r', label='twolocal ansatz')\n",
    "plt.errorbar(number_of_iterations, np.mean(np.array(res_linear_slices[slice]), axis=1), yerr=errorbar_linear, fmt='*r', label='twolocal ansatz')\n",
    "plt.errorbar(number_of_iterations, np.mean(np.array(res_qaoa_slices[slice]), axis=1), yerr=errorbar_qaoa, fmt='db', label='QAQA ansatz')\n",
    "plt.legend()\n",
    "plt.yscale('log')\n",
    "# plt.xscale('log')\n",
    "plt.xlabel('Number of iterations')\n",
    "plt.ylabel('Probability of optimal solution')\n",
    "plt.show()"
   ]
  },
  {
   "cell_type": "code",
   "execution_count": null,
   "metadata": {},
   "outputs": [],
   "source": [
    "#saving the files in a pickle file so we can analyze it without rerunning it later.\n",
    "\n",
    "import pickle\n",
    "with open('le_10-50-4_5.pkl', 'wb') as f:\n",
    "    pickle.dump(res_linear_slices, f)\n",
    "\n",
    "with open('qaoa_10-50-4_5.pkl', 'wb') as f:\n",
    "    pickle.dump(res_qaoa_slices, f)"
   ]
  }
 ],
 "metadata": {
  "kernelspec": {
   "display_name": ".venv",
   "language": "python",
   "name": "python3"
  },
  "language_info": {
   "codemirror_mode": {
    "name": "ipython",
    "version": 3
   },
   "file_extension": ".py",
   "mimetype": "text/x-python",
   "name": "python",
   "nbconvert_exporter": "python",
   "pygments_lexer": "ipython3",
   "version": "3.10.4"
  }
 },
 "nbformat": 4,
 "nbformat_minor": 2
}
